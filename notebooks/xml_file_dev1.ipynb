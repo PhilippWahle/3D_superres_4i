{
 "cells": [
  {
   "cell_type": "code",
   "execution_count": 3,
   "metadata": {},
   "outputs": [],
   "source": [
    "import sys\n",
    "sys.path.insert(0, \"/home/pwahle/proliferating_RGC/\")\n",
    "\n",
    "import yaml\n",
    "import importlib\n",
    "import modules\n",
    "importlib.reload(modules)\n",
    "import os\n",
    "from pathlib import Path\n",
    "import subprocess\n",
    "\n",
    "# load global variables and parameters\n",
    "with open(\"../params.yml\", 'r') as ymlfile:\n",
    "    cfg = yaml.load(ymlfile, Loader=yaml.FullLoader)\n",
    "\n",
    "globals().update(cfg)\n",
    "r_path = str(Path('/usr/local/R-4.0.3/bin/Rscript'))  # path to r interpreter\n",
    "\n",
    "from scipy import ndimage\n",
    "import re\n",
    "import cv2\n",
    "from scipy import ndimage as ndi\n",
    "import copy\n",
    "import numpy as np\n",
    "import matplotlib as mpl\n",
    "import os\n",
    "from pathlib import Path\n",
    "import pandas as pd\n",
    "import matplotlib.pyplot as plt\n",
    "from skimage import io"
   ]
  },
  {
   "cell_type": "code",
   "execution_count": 4,
   "metadata": {},
   "outputs": [],
   "source": [
    "path = data_path + 'exp4/'"
   ]
  },
  {
   "cell_type": "code",
   "execution_count": 5,
   "metadata": {},
   "outputs": [],
   "source": [
    "from bs4 import BeautifulSoup\n",
    "from bs4 import BeautifulStoneSoup \n",
    "with open(path + 'multipoints.xml', 'rb') as f:\n",
    "#with open('GFG.xml', 'rb') as f:\n",
    "    data = f.read()\n",
    "Bs_data = BeautifulSoup(data, \"xml\")\n",
    "\n",
    "with open(path + 'multipoints_after.xml', 'rb') as f:\n",
    "#with open('GFG.xml', 'rb') as f:\n",
    "    data = f.read()\n",
    "Bs_after = BeautifulSoup(data, \"xml\")"
   ]
  },
  {
   "cell_type": "code",
   "execution_count": 6,
   "metadata": {},
   "outputs": [],
   "source": [
    "def get_plane_func(p1,p2,p3):\n",
    "    v1 = p3 - p1\n",
    "    v2 = p2 - p1\n",
    "    \n",
    "    # the cross product is a vector normal to the plane\n",
    "    cp = np.cross(v1, v2)\n",
    "    a, b, c = cp\n",
    "    d = np.dot(cp, p3)\n",
    "    \n",
    "    return cp,d\n",
    "\n",
    "def project_point(a,b,c,d,x,y,z):\n",
    "    return ax+by+cz-d\n",
    "\n",
    "\n",
    "def calculate_rotation_matrix(P1, P2, P3, P1_prime, P2_prime, P3_prime):\n",
    "    # Calculate the normal vectors of the planes\n",
    "    N = np.cross(P2 - P1, P3 - P1)\n",
    "    N_prime = np.cross(P2_prime - P1_prime, P3_prime - P1_prime)\n",
    "\n",
    "    # Normalize the normal vectors\n",
    "    N_normalized = N / np.linalg.norm(N)\n",
    "    N_prime_normalized = N_prime / np.linalg.norm(N_prime)\n",
    "\n",
    "    # Calculate the second column of the rotation matrix\n",
    "    V = np.cross(N, N_normalized)\n",
    "    V_normalized = V / np.linalg.norm(V)\n",
    "\n",
    "    # Construct the rotation matrix\n",
    "    R = np.column_stack((N_normalized, V_normalized, N_prime_normalized))\n",
    "\n",
    "    return R\n"
   ]
  },
  {
   "cell_type": "code",
   "execution_count": 7,
   "metadata": {},
   "outputs": [
    {
     "name": "stderr",
     "output_type": "stream",
     "text": [
      "/home/pwahle/anaconda3/envs/retina/lib/python3.7/site-packages/ipykernel_launcher.py:27: RuntimeWarning: invalid value encountered in true_divide\n"
     ]
    },
    {
     "ename": "NameError",
     "evalue": "name 'cp' is not defined",
     "output_type": "error",
     "traceback": [
      "\u001b[0;31m---------------------------------------------------------------------------\u001b[0m",
      "\u001b[0;31mNameError\u001b[0m                                 Traceback (most recent call last)",
      "\u001b[0;32m<ipython-input-7-67e5cf0dda89>\u001b[0m in \u001b[0;36m<module>\u001b[0;34m\u001b[0m\n\u001b[1;32m     14\u001b[0m \u001b[0;34m\u001b[0m\u001b[0m\n\u001b[1;32m     15\u001b[0m \u001b[0;31m# This evaluates a * x3 + b * y3 + c * z3 which equals d\u001b[0m\u001b[0;34m\u001b[0m\u001b[0;34m\u001b[0m\u001b[0;34m\u001b[0m\u001b[0m\n\u001b[0;32m---> 16\u001b[0;31m \u001b[0md\u001b[0m \u001b[0;34m=\u001b[0m \u001b[0mnp\u001b[0m\u001b[0;34m.\u001b[0m\u001b[0mdot\u001b[0m\u001b[0;34m(\u001b[0m\u001b[0mcp\u001b[0m\u001b[0;34m,\u001b[0m \u001b[0mp3\u001b[0m\u001b[0;34m)\u001b[0m\u001b[0;34m\u001b[0m\u001b[0;34m\u001b[0m\u001b[0m\n\u001b[0m\u001b[1;32m     17\u001b[0m \u001b[0;34m\u001b[0m\u001b[0m\n\u001b[1;32m     18\u001b[0m \u001b[0mprint\u001b[0m\u001b[0;34m(\u001b[0m\u001b[0;34m'The equation is {0}x + {1}y + {2}z = {3}'\u001b[0m\u001b[0;34m.\u001b[0m\u001b[0mformat\u001b[0m\u001b[0;34m(\u001b[0m\u001b[0ma\u001b[0m\u001b[0;34m,\u001b[0m \u001b[0mb\u001b[0m\u001b[0;34m,\u001b[0m \u001b[0mc\u001b[0m\u001b[0;34m,\u001b[0m \u001b[0md\u001b[0m\u001b[0;34m)\u001b[0m\u001b[0;34m)\u001b[0m\u001b[0;34m\u001b[0m\u001b[0;34m\u001b[0m\u001b[0m\n",
      "\u001b[0;31mNameError\u001b[0m: name 'cp' is not defined"
     ]
    }
   ],
   "source": [
    "a1 = np.array([float(Bs_data.find_all('dXPosition', {'runtype':'double'})[0]['value']),float(Bs_data.find_all('dYPosition', {'runtype':'double'})[0]['value']),float(Bs_data.find_all('dZPosition', {'runtype':'double'})[0]['value'])])\n",
    "a2 = np.array([float(Bs_data.find_all('dXPosition', {'runtype':'double'})[1]['value']),float(Bs_data.find_all('dYPosition', {'runtype':'double'})[1]['value']),float(Bs_data.find_all('dZPosition', {'runtype':'double'})[1]['value'])])\n",
    "a3 = np.array([float(Bs_data.find_all('dXPosition', {'runtype':'double'})[2]['value']),float(Bs_data.find_all('dYPosition', {'runtype':'double'})[2]['value']),float(Bs_data.find_all('dZPosition', {'runtype':'double'})[2]['value'])])\n",
    "\n",
    "\n",
    "b1 = np.array([float(Bs_after.find_all('dXPosition', {'runtype':'double'})[0]['value']),float(Bs_after.find_all('dYPosition', {'runtype':'double'})[0]['value']),float(Bs_after.find_all('dZPosition', {'runtype':'double'})[0]['value'])])\n",
    "b2 = np.array([float(Bs_after.find_all('dXPosition', {'runtype':'double'})[1]['value']),float(Bs_after.find_all('dYPosition', {'runtype':'double'})[1]['value']),float(Bs_after.find_all('dZPosition', {'runtype':'double'})[1]['value'])])\n",
    "b3 = np.array([float(Bs_after.find_all('dXPosition', {'runtype':'double'})[2]['value']),float(Bs_after.find_all('dYPosition', {'runtype':'double'})[2]['value']),float(Bs_after.find_all('dZPosition', {'runtype':'double'})[2]['value'])])\n",
    "\n",
    "plane1 = get_plane_func(a1,a2,a3)\n",
    "plane2 = get_plane_func(b1,b2,b3)\n",
    "\n",
    "calculate_rotation_matrix(P1 = a1, P2 = a2, P3 = a3, P1_prime = b1, P2_prime = b2, P3_prime = b3)\n",
    "\n",
    "# This evaluates a * x3 + b * y3 + c * z3 which equals d\n",
    "d = np.dot(cp, p3)\n",
    "\n",
    "print('The equation is {0}x + {1}y + {2}z = {3}'.format(a, b, c, d))\n",
    "\n",
    "import matplotlib.pyplot as plt\n",
    "from mpl_toolkits.mplot3d import Axes3D\n",
    "fig = plt.figure()\n",
    "ax = fig.add_subplot(111, projection='3d')\n",
    "\n",
    "ax.plot(5,\n",
    "        5,\n",
    "        5, 'bo ')\n",
    "\n",
    "ax.plot(*zip(p1, p2, p3), color='r', linestyle=' ', marker='o')\n",
    "\n",
    "# adjust the view so we can see the point/plane alignment\n",
    "ax.view_init(0, 22)\n",
    "plt.tight_layout()\n",
    "plt.show()"
   ]
  },
  {
   "cell_type": "code",
   "execution_count": 8,
   "metadata": {},
   "outputs": [
    {
     "data": {
      "text/plain": [
       "[<dYPosition runtype=\"double\" value=\"5639.500000000000000\"/>,\n",
       " <dYPosition runtype=\"double\" value=\"14224.200000000000728\"/>,\n",
       " <dYPosition runtype=\"double\" value=\"1487.900000000000091\"/>,\n",
       " <dYPosition runtype=\"double\" value=\"8398.800000000001091\"/>,\n",
       " <dYPosition runtype=\"double\" value=\"8001.900000000000546\"/>,\n",
       " <dYPosition runtype=\"double\" value=\"8445.399999999999636\"/>,\n",
       " <dYPosition runtype=\"double\" value=\"8547.200000000000728\"/>,\n",
       " <dYPosition runtype=\"double\" value=\"8480.399999999999636\"/>,\n",
       " <dYPosition runtype=\"double\" value=\"4130.699999999999818\"/>,\n",
       " <dYPosition runtype=\"double\" value=\"4481.500000000000000\"/>,\n",
       " <dYPosition runtype=\"double\" value=\"4853.300000000000182\"/>,\n",
       " <dYPosition runtype=\"double\" value=\"4949.600000000000364\"/>,\n",
       " <dYPosition runtype=\"double\" value=\"-1081.700000000000045\"/>,\n",
       " <dYPosition runtype=\"double\" value=\"-947.400000000000091\"/>,\n",
       " <dYPosition runtype=\"double\" value=\"-295.900000000000034\"/>,\n",
       " <dYPosition runtype=\"double\" value=\"117.800000000000011\"/>]"
      ]
     },
     "execution_count": 8,
     "metadata": {},
     "output_type": "execute_result"
    }
   ],
   "source": [
    "xpos = Bs_after.find_all('dXPosition')\n",
    "ypos = Bs_after.find_all('dYPosition')\n",
    "zpos = Bs_after.find_all('dZPosition')\n",
    "ypos"
   ]
  },
  {
   "cell_type": "code",
   "execution_count": 9,
   "metadata": {},
   "outputs": [
    {
     "data": {
      "text/plain": [
       "[<dXPosition runtype=\"double\" value=\"43652.900000000001455\"/>,\n",
       " <dXPosition runtype=\"double\" value=\"10131.800000000001091\"/>,\n",
       " <dXPosition runtype=\"double\" value=\"6281.200000000000728\"/>,\n",
       " <dXPosition runtype=\"double\" value=\"14539.500000000000000\"/>,\n",
       " <dXPosition runtype=\"double\" value=\"14954.200000000000728\"/>,\n",
       " <dXPosition runtype=\"double\" value=\"14150.900000000001455\"/>,\n",
       " <dXPosition runtype=\"double\" value=\"13708.400000000001455\"/>,\n",
       " <dXPosition runtype=\"double\" value=\"14466.400000000001455\"/>,\n",
       " <dXPosition runtype=\"double\" value=\"26396.400000000001455\"/>,\n",
       " <dXPosition runtype=\"double\" value=\"26350.100000000002183\"/>,\n",
       " <dXPosition runtype=\"double\" value=\"26327.900000000001455\"/>,\n",
       " <dXPosition runtype=\"double\" value=\"26280.200000000000728\"/>,\n",
       " <dXPosition runtype=\"double\" value=\"38020.400000000001455\"/>,\n",
       " <dXPosition runtype=\"double\" value=\"38032.900000000001455\"/>,\n",
       " <dXPosition runtype=\"double\" value=\"38068.300000000002910\"/>,\n",
       " <dXPosition runtype=\"double\" value=\"37997.300000000002910\"/>]"
      ]
     },
     "execution_count": 9,
     "metadata": {},
     "output_type": "execute_result"
    }
   ],
   "source": [
    "xpos"
   ]
  },
  {
   "cell_type": "code",
   "execution_count": 10,
   "metadata": {},
   "outputs": [
    {
     "data": {
      "text/plain": [
       "[<dZPosition runtype=\"double\" value=\"5215.749999999999091\"/>,\n",
       " <dZPosition runtype=\"double\" value=\"5376.599999999999454\"/>,\n",
       " <dZPosition runtype=\"double\" value=\"5394.049999999999272\"/>,\n",
       " <dZPosition runtype=\"double\" value=\"5252.929999999999382\"/>,\n",
       " <dZPosition runtype=\"double\" value=\"5259.109999999998763\"/>,\n",
       " <dZPosition runtype=\"double\" value=\"5259.449999999998909\"/>,\n",
       " <dZPosition runtype=\"double\" value=\"5223.789999999999964\"/>,\n",
       " <dZPosition runtype=\"double\" value=\"5230.710000000000036\"/>,\n",
       " <dZPosition runtype=\"double\" value=\"5222.599999999999454\"/>,\n",
       " <dZPosition runtype=\"double\" value=\"5200.690000000000509\"/>,\n",
       " <dZPosition runtype=\"double\" value=\"5225.929999999999382\"/>,\n",
       " <dZPosition runtype=\"double\" value=\"5226.619999999998981\"/>,\n",
       " <dZPosition runtype=\"double\" value=\"5213.079999999999018\"/>,\n",
       " <dZPosition runtype=\"double\" value=\"5209.329999999999018\"/>,\n",
       " <dZPosition runtype=\"double\" value=\"5207.749999999999091\"/>,\n",
       " <dZPosition runtype=\"double\" value=\"5206.709999999999127\"/>]"
      ]
     },
     "execution_count": 10,
     "metadata": {},
     "output_type": "execute_result"
    }
   ],
   "source": [
    "zpos"
   ]
  },
  {
   "cell_type": "code",
   "execution_count": 11,
   "metadata": {},
   "outputs": [
    {
     "data": {
      "text/plain": [
       "[<dYPosition runtype=\"double\" value=\"5639.500000000000000\"/>,\n",
       " <dYPosition runtype=\"double\" value=\"14224.200000000000728\"/>,\n",
       " <dYPosition runtype=\"double\" value=\"1487.900000000000091\"/>,\n",
       " <dYPosition runtype=\"double\" value=\"8398.800000000001091\"/>,\n",
       " <dYPosition runtype=\"double\" value=\"8001.900000000000546\"/>,\n",
       " <dYPosition runtype=\"double\" value=\"8445.399999999999636\"/>,\n",
       " <dYPosition runtype=\"double\" value=\"8547.200000000000728\"/>,\n",
       " <dYPosition runtype=\"double\" value=\"8480.399999999999636\"/>,\n",
       " <dYPosition runtype=\"double\" value=\"4130.699999999999818\"/>,\n",
       " <dYPosition runtype=\"double\" value=\"4481.500000000000000\"/>,\n",
       " <dYPosition runtype=\"double\" value=\"4853.300000000000182\"/>,\n",
       " <dYPosition runtype=\"double\" value=\"4949.600000000000364\"/>,\n",
       " <dYPosition runtype=\"double\" value=\"-1081.700000000000045\"/>,\n",
       " <dYPosition runtype=\"double\" value=\"-947.400000000000091\"/>,\n",
       " <dYPosition runtype=\"double\" value=\"-295.900000000000034\"/>,\n",
       " <dYPosition runtype=\"double\" value=\"117.800000000000011\"/>]"
      ]
     },
     "execution_count": 11,
     "metadata": {},
     "output_type": "execute_result"
    }
   ],
   "source": [
    "for tag in Bs_data.find_all('dYPosition', {'runtype':'double'}):\n",
    "    tag['value'] = str(float(tag['value'])/100)\n",
    "ypos"
   ]
  },
  {
   "cell_type": "code",
   "execution_count": 12,
   "metadata": {},
   "outputs": [],
   "source": [
    "i = 0\n",
    "for tag in Bs_data.find_all('dZPosition', {'runtype':'double'}):\n",
    "    tag['value'] = str(i)\n",
    "    i+=1"
   ]
  },
  {
   "cell_type": "code",
   "execution_count": 13,
   "metadata": {},
   "outputs": [],
   "source": [
    "with open(path + \"test.xml\", \"w\") as f:\n",
    "    f.write(Bs_data.prettify())"
   ]
  },
  {
   "cell_type": "code",
   "execution_count": 19,
   "metadata": {},
   "outputs": [
    {
     "name": "stdout",
     "output_type": "stream",
     "text": [
      "The equation is 30x + -48y + 17z = -15\n"
     ]
    },
    {
     "data": {
      "image/png": "[encoded data removed]",
      "text/plain": [
       "<Figure size 432x288 with 1 Axes>"
      ]
     },
     "metadata": {
      "needs_background": "light"
     },
     "output_type": "display_data"
    }
   ],
   "source": [
    "#############\n",
    "import np as np\n",
    "\n",
    "p1 = np.array([1, 2, 3])\n",
    "p2 = np.array([4, 6, 9])\n",
    "p3 = np.array([12, 11, 9])\n",
    "\n",
    "# These two vectors are in the plane\n",
    "v1 = p3 - p1\n",
    "v2 = p2 - p1\n",
    "\n",
    "# the cross product is a vector normal to the plane\n",
    "cp = np.cross(v1, v2)\n",
    "a, b, c = cp\n",
    "\n",
    "# This evaluates a * x3 + b * y3 + c * z3 which equals d\n",
    "d = np.dot(cp, p3)\n",
    "\n",
    "print('The equation is {0}x + {1}y + {2}z = {3}'.format(a, b, c, d))\n",
    "\n",
    "import matplotlib.pyplot as plt\n",
    "from mpl_toolkits.mplot3d import Axes3D\n",
    "fig = plt.figure()\n",
    "ax = fig.add_subplot(111, projection='3d')\n",
    "\n",
    "x = np.linspace(-2, 14, 5)\n",
    "y = np.linspace(-2, 14, 5)\n",
    "X, Y = np.meshgrid(x, y)\n",
    "\n",
    "Z = (d - a * X - b * Y) / c\n",
    "\n",
    "# plot the mesh. Each array is 2D, so we flatten them to 1D arrays\n",
    "ax.plot(X.flatten(),\n",
    "        Y.flatten(),\n",
    "        Z.flatten(), 'bo ')\n",
    "\n",
    "# plot the original points. We use zip to get 1D lists of x, y and z\n",
    "# coordinates.\n",
    "ax.plot(*zip(p1, p2, p3), color='r', linestyle=' ', marker='o')\n",
    "\n",
    "# adjust the view so we can see the point/plane alignment\n",
    "ax.view_init(0, 22)\n",
    "plt.tight_layout()\n",
    "plt.show()"
   ]
  },
  {
   "cell_type": "code",
   "execution_count": 7,
   "metadata": {},
   "outputs": [
    {
     "ename": "LinAlgError",
     "evalue": "Singular matrix",
     "output_type": "error",
     "traceback": [
      "\u001b[0;31m---------------------------------------------------------------------------\u001b[0m",
      "\u001b[0;31mLinAlgError\u001b[0m                               Traceback (most recent call last)",
      "\u001b[0;32m<ipython-input-7-169597d13987>\u001b[0m in \u001b[0;36m<module>\u001b[0;34m\u001b[0m\n\u001b[1;32m     27\u001b[0m \u001b[0;34m\u001b[0m\u001b[0m\n\u001b[1;32m     28\u001b[0m \u001b[0;31m# Calculate the translated coordinates of the fourth point\u001b[0m\u001b[0;34m\u001b[0m\u001b[0;34m\u001b[0m\u001b[0;34m\u001b[0m\u001b[0m\n\u001b[0;32m---> 29\u001b[0;31m \u001b[0mP4_new\u001b[0m \u001b[0;34m=\u001b[0m \u001b[0mtranslate_point\u001b[0m\u001b[0;34m(\u001b[0m\u001b[0mP1_updated\u001b[0m\u001b[0;34m,\u001b[0m \u001b[0mP2_updated\u001b[0m\u001b[0;34m,\u001b[0m \u001b[0mP3_updated\u001b[0m\u001b[0;34m,\u001b[0m \u001b[0mP4_original\u001b[0m\u001b[0;34m,\u001b[0m \u001b[0mP4_original\u001b[0m\u001b[0;34m)\u001b[0m\u001b[0;34m\u001b[0m\u001b[0;34m\u001b[0m\u001b[0m\n\u001b[0m\u001b[1;32m     30\u001b[0m \u001b[0;34m\u001b[0m\u001b[0m\n\u001b[1;32m     31\u001b[0m \u001b[0;31m# Print the translated coordinates of the fourth point\u001b[0m\u001b[0;34m\u001b[0m\u001b[0;34m\u001b[0m\u001b[0;34m\u001b[0m\u001b[0m\n",
      "\u001b[0;32m<ipython-input-7-169597d13987>\u001b[0m in \u001b[0;36mtranslate_point\u001b[0;34m(P1, P2, P3, P4, P4_original)\u001b[0m\n\u001b[1;32m      6\u001b[0m \u001b[0;34m\u001b[0m\u001b[0m\n\u001b[1;32m      7\u001b[0m     \u001b[0;31m# Calculate the rotation matrix\u001b[0m\u001b[0;34m\u001b[0m\u001b[0;34m\u001b[0m\u001b[0;34m\u001b[0m\u001b[0m\n\u001b[0;32m----> 8\u001b[0;31m     \u001b[0mR\u001b[0m \u001b[0;34m=\u001b[0m \u001b[0mnp\u001b[0m\u001b[0;34m.\u001b[0m\u001b[0mlinalg\u001b[0m\u001b[0;34m.\u001b[0m\u001b[0minv\u001b[0m\u001b[0;34m(\u001b[0m\u001b[0mnp\u001b[0m\u001b[0;34m.\u001b[0m\u001b[0mvstack\u001b[0m\u001b[0;34m(\u001b[0m\u001b[0;34m(\u001b[0m\u001b[0mP2\u001b[0m \u001b[0;34m-\u001b[0m \u001b[0mP1\u001b[0m\u001b[0;34m,\u001b[0m \u001b[0mP3\u001b[0m \u001b[0;34m-\u001b[0m \u001b[0mP1\u001b[0m\u001b[0;34m,\u001b[0m \u001b[0mnp\u001b[0m\u001b[0;34m.\u001b[0m\u001b[0mcross\u001b[0m\u001b[0;34m(\u001b[0m\u001b[0mP2\u001b[0m \u001b[0;34m-\u001b[0m \u001b[0mP1\u001b[0m\u001b[0;34m,\u001b[0m \u001b[0mP3\u001b[0m \u001b[0;34m-\u001b[0m \u001b[0mP1\u001b[0m\u001b[0;34m)\u001b[0m\u001b[0;34m)\u001b[0m\u001b[0;34m)\u001b[0m\u001b[0;34m)\u001b[0m\u001b[0;34m.\u001b[0m\u001b[0mT\u001b[0m\u001b[0;34m\u001b[0m\u001b[0;34m\u001b[0m\u001b[0m\n\u001b[0m\u001b[1;32m      9\u001b[0m \u001b[0;34m\u001b[0m\u001b[0m\n\u001b[1;32m     10\u001b[0m     \u001b[0;31m# Apply the translation and rotation to the fourth point\u001b[0m\u001b[0;34m\u001b[0m\u001b[0;34m\u001b[0m\u001b[0;34m\u001b[0m\u001b[0m\n",
      "\u001b[0;32m<__array_function__ internals>\u001b[0m in \u001b[0;36minv\u001b[0;34m(*args, **kwargs)\u001b[0m\n",
      "\u001b[0;32m~/anaconda3/envs/retina/lib/python3.7/site-packages/numpy/linalg/linalg.py\u001b[0m in \u001b[0;36minv\u001b[0;34m(a)\u001b[0m\n\u001b[1;32m    543\u001b[0m     \u001b[0msignature\u001b[0m \u001b[0;34m=\u001b[0m \u001b[0;34m'D->D'\u001b[0m \u001b[0;32mif\u001b[0m \u001b[0misComplexType\u001b[0m\u001b[0;34m(\u001b[0m\u001b[0mt\u001b[0m\u001b[0;34m)\u001b[0m \u001b[0;32melse\u001b[0m \u001b[0;34m'd->d'\u001b[0m\u001b[0;34m\u001b[0m\u001b[0;34m\u001b[0m\u001b[0m\n\u001b[1;32m    544\u001b[0m     \u001b[0mextobj\u001b[0m \u001b[0;34m=\u001b[0m \u001b[0mget_linalg_error_extobj\u001b[0m\u001b[0;34m(\u001b[0m\u001b[0m_raise_linalgerror_singular\u001b[0m\u001b[0;34m)\u001b[0m\u001b[0;34m\u001b[0m\u001b[0;34m\u001b[0m\u001b[0m\n\u001b[0;32m--> 545\u001b[0;31m     \u001b[0mainv\u001b[0m \u001b[0;34m=\u001b[0m \u001b[0m_umath_linalg\u001b[0m\u001b[0;34m.\u001b[0m\u001b[0minv\u001b[0m\u001b[0;34m(\u001b[0m\u001b[0ma\u001b[0m\u001b[0;34m,\u001b[0m \u001b[0msignature\u001b[0m\u001b[0;34m=\u001b[0m\u001b[0msignature\u001b[0m\u001b[0;34m,\u001b[0m \u001b[0mextobj\u001b[0m\u001b[0;34m=\u001b[0m\u001b[0mextobj\u001b[0m\u001b[0;34m)\u001b[0m\u001b[0;34m\u001b[0m\u001b[0;34m\u001b[0m\u001b[0m\n\u001b[0m\u001b[1;32m    546\u001b[0m     \u001b[0;32mreturn\u001b[0m \u001b[0mwrap\u001b[0m\u001b[0;34m(\u001b[0m\u001b[0mainv\u001b[0m\u001b[0;34m.\u001b[0m\u001b[0mastype\u001b[0m\u001b[0;34m(\u001b[0m\u001b[0mresult_t\u001b[0m\u001b[0;34m,\u001b[0m \u001b[0mcopy\u001b[0m\u001b[0;34m=\u001b[0m\u001b[0;32mFalse\u001b[0m\u001b[0;34m)\u001b[0m\u001b[0;34m)\u001b[0m\u001b[0;34m\u001b[0m\u001b[0;34m\u001b[0m\u001b[0m\n\u001b[1;32m    547\u001b[0m \u001b[0;34m\u001b[0m\u001b[0m\n",
      "\u001b[0;32m~/anaconda3/envs/retina/lib/python3.7/site-packages/numpy/linalg/linalg.py\u001b[0m in \u001b[0;36m_raise_linalgerror_singular\u001b[0;34m(err, flag)\u001b[0m\n\u001b[1;32m     86\u001b[0m \u001b[0;34m\u001b[0m\u001b[0m\n\u001b[1;32m     87\u001b[0m \u001b[0;32mdef\u001b[0m \u001b[0m_raise_linalgerror_singular\u001b[0m\u001b[0;34m(\u001b[0m\u001b[0merr\u001b[0m\u001b[0;34m,\u001b[0m \u001b[0mflag\u001b[0m\u001b[0;34m)\u001b[0m\u001b[0;34m:\u001b[0m\u001b[0;34m\u001b[0m\u001b[0;34m\u001b[0m\u001b[0m\n\u001b[0;32m---> 88\u001b[0;31m     \u001b[0;32mraise\u001b[0m \u001b[0mLinAlgError\u001b[0m\u001b[0;34m(\u001b[0m\u001b[0;34m\"Singular matrix\"\u001b[0m\u001b[0;34m)\u001b[0m\u001b[0;34m\u001b[0m\u001b[0;34m\u001b[0m\u001b[0m\n\u001b[0m\u001b[1;32m     89\u001b[0m \u001b[0;34m\u001b[0m\u001b[0m\n\u001b[1;32m     90\u001b[0m \u001b[0;32mdef\u001b[0m \u001b[0m_raise_linalgerror_nonposdef\u001b[0m\u001b[0;34m(\u001b[0m\u001b[0merr\u001b[0m\u001b[0;34m,\u001b[0m \u001b[0mflag\u001b[0m\u001b[0;34m)\u001b[0m\u001b[0;34m:\u001b[0m\u001b[0;34m\u001b[0m\u001b[0;34m\u001b[0m\u001b[0m\n",
      "\u001b[0;31mLinAlgError\u001b[0m: Singular matrix"
     ]
    }
   ],
   "source": [
    "import np as np\n",
    "\n",
    "def translate_point(P1, P2, P3, P4, P4_original):\n",
    "    # Calculate the translation vector\n",
    "    T = P2 - P1\n",
    "\n",
    "    # Calculate the rotation matrix\n",
    "    R = np.linalg.inv(np.vstack((P2 - P1, P3 - P1, np.cross(P2 - P1, P3 - P1)))).T\n",
    "\n",
    "    # Apply the translation and rotation to the fourth point\n",
    "    P4_new = R @ (P4_original - P1) + T + P1\n",
    "\n",
    "    return P4_new\n",
    "\n",
    "# Example coordinates of three reference points before rotation\n",
    "P1 = np.array([1, 2, 3])\n",
    "P2 = np.array([4, 5, 6])\n",
    "P3 = np.array([7, 8, 9])\n",
    "\n",
    "# Example coordinates of the fourth point before rotation\n",
    "P4_original = np.array([10, 11, 12])\n",
    "\n",
    "# Example coordinates of three reference points after rotation\n",
    "P1_updated = np.array([2, 4, 6])\n",
    "P2_updated = np.array([5, 7, 9])\n",
    "P3_updated = np.array([8, 10, 12])\n",
    "\n",
    "# Calculate the translated coordinates of the fourth point\n",
    "P4_new = translate_point(P1_updated, P2_updated, P3_updated, P4_original, P4_original)\n",
    "\n",
    "# Print the translated coordinates of the fourth point\n",
    "print(\"Translated coordinates of the fourth point:\", P4_new)"
   ]
  },
  {
   "cell_type": "code",
   "execution_count": 102,
   "metadata": {},
   "outputs": [],
   "source": [
    "def affine_matrix_from_points(v0, v1, shear=True, scale=True, usesvd=True):\n",
    "\n",
    "    v0 = np.array(v0, dtype=np.float64, copy=True)\n",
    "    v1 = np.array(v1, dtype=np.float64, copy=True)\n",
    "\n",
    "    ndims = v0.shape[0]\n",
    "    if ndims < 2 or v0.shape[1] < ndims or v0.shape != v1.shape:\n",
    "        raise ValueError(\"input arrays are of wrong shape or type\")\n",
    "\n",
    "    # move centroids to origin\n",
    "    t0 = -np.mean(v0, axis=1)\n",
    "    M0 = np.identity(ndims+1)\n",
    "    M0[:ndims, ndims] = t0\n",
    "    v0 += t0.reshape(ndims, 1)\n",
    "    t1 = -np.mean(v1, axis=1)\n",
    "    M1 = np.identity(ndims+1)\n",
    "    M1[:ndims, ndims] = t1\n",
    "    v1 += t1.reshape(ndims, 1)\n",
    "\n",
    "    if shear:\n",
    "        # Affine transformation\n",
    "        A = np.concatenate((v0, v1), axis=0)\n",
    "        u, s, vh = np.linalg.svd(A.T)\n",
    "        vh = vh[:ndims].T\n",
    "        B = vh[:ndims]\n",
    "        C = vh[ndims:2*ndims]\n",
    "        t = np.dot(C, np.linalg.pinv(B))\n",
    "        t = np.concatenate((t, np.zeros((ndims, 1))), axis=1)\n",
    "        M = np.vstack((t, ((0.0,)*ndims) + (1.0,)))\n",
    "    elif usesvd or ndims != 3:\n",
    "        # Rigid transformation via SVD of covariance matrix\n",
    "        u, s, vh = np.linalg.svd(np.dot(v1, v0.T))\n",
    "        # rotation matrix from SVD orthonormal bases\n",
    "        R = np.dot(u, vh)\n",
    "        if np.linalg.det(R) < 0.0:\n",
    "            # R does not constitute right handed system\n",
    "            R -= np.outer(u[:, ndims-1], vh[ndims-1, :]*2.0)\n",
    "            s[-1] *= -1.0\n",
    "        # homogeneous transformation matrix\n",
    "        M = np.identity(ndims+1)\n",
    "        M[:ndims, :ndims] = R\n",
    "    else:\n",
    "        # Rigid transformation matrix via quaternion\n",
    "        # compute symmetric matrix N\n",
    "        xx, yy, zz = np.sum(v0 * v1, axis=1)\n",
    "        xy, yz, zx = np.sum(v0 * np.roll(v1, -1, axis=0), axis=1)\n",
    "        xz, yx, zy = np.sum(v0 * np.roll(v1, -2, axis=0), axis=1)\n",
    "        N = [[xx+yy+zz, 0.0,      0.0,      0.0],\n",
    "             [yz-zy,    xx-yy-zz, 0.0,      0.0],\n",
    "             [zx-xz,    xy+yx,    yy-xx-zz, 0.0],\n",
    "             [xy-yx,    zx+xz,    yz+zy,    zz-xx-yy]]\n",
    "        # quaternion: eigenvector corresponding to most positive eigenvalue\n",
    "        w, V = np.linalg.eigh(N)\n",
    "        q = V[:, np.argmax(w)]\n",
    "        q /= vector_norm(q)  # unit quaternion\n",
    "        # homogeneous transformation matrix\n",
    "        M = quaternion_matrix(q)\n",
    "\n",
    "    if scale and not shear:\n",
    "        # Affine transformation; scale is ratio of RMS deviations from centroid\n",
    "        v0 *= v0\n",
    "        v1 *= v1\n",
    "        M[:ndims, :ndims] *= math.sqrt(np.sum(v1) / np.sum(v0))\n",
    "\n",
    "    # move centroids back\n",
    "    M = np.dot(np.linalg.inv(M1), np.dot(M, M0))\n",
    "    M /= M[ndims, ndims]\n",
    "    return M\n",
    "\n",
    "def superimposition_matrix(v0, v1, scale=False, usesvd=True):\n",
    "\n",
    "    v0 = np.array(v0, dtype=np.float64, copy=False)[:3]\n",
    "    v1 = np.array(v1, dtype=np.float64, copy=False)[:3]\n",
    "    return affine_matrix_from_points(v0, v1, shear=False,\n",
    "                                     scale=scale, usesvd=usesvd)"
   ]
  },
  {
   "cell_type": "code",
   "execution_count": 193,
   "metadata": {},
   "outputs": [],
   "source": [
    "v0 = [[0, 1031, 1031, 0], [0, 0, 1600, 1600]]\n",
    "v1 = [[675, 826, 826, 677], [55, 52, 281, 277]]\n",
    "a1 = np.array([float(Bs_data.find_all('dXPosition', {'runtype':'double'})[0]['value']),float(Bs_data.find_all('dXPosition', {'runtype':'double'})[1]['value']),float(Bs_data.find_all('dXPosition', {'runtype':'double'})[2]['value'])])\n",
    "a2 = np.array([float(Bs_data.find_all('dYPosition', {'runtype':'double'})[0]['value']),float(Bs_data.find_all('dYPosition', {'runtype':'double'})[1]['value']),float(Bs_data.find_all('dYPosition', {'runtype':'double'})[2]['value'])])\n",
    "a3 = np.array([float(Bs_data.find_all('dZPosition', {'runtype':'double'})[0]['value']),float(Bs_data.find_all('dZPosition', {'runtype':'double'})[1]['value']),float(Bs_data.find_all('dZPosition', {'runtype':'double'})[2]['value'])])\n",
    "v0 = np.array([a1,a2,a3])\n",
    "\n",
    "b1 = np.array([float(Bs_after.find_all('dXPosition', {'runtype':'double'})[0]['value']),float(Bs_after.find_all('dXPosition', {'runtype':'double'})[1]['value']),float(Bs_after.find_all('dXPosition', {'runtype':'double'})[2]['value'])])\n",
    "b2 = np.array([float(Bs_after.find_all('dYPosition', {'runtype':'double'})[0]['value']),float(Bs_after.find_all('dYPosition', {'runtype':'double'})[1]['value']),float(Bs_after.find_all('dYPosition', {'runtype':'double'})[2]['value'])])\n",
    "b3 = np.array([float(Bs_after.find_all('dZPosition', {'runtype':'double'})[0]['value']),float(Bs_after.find_all('dZPosition', {'runtype':'double'})[1]['value']),float(Bs_after.find_all('dZPosition', {'runtype':'double'})[2]['value'])])\n",
    "v1 = np.array([b1,b2,b3])\n",
    "\n",
    "#bX = []\n",
    "#for i in Bs_after.find_all('dXPosition', {'runtype':'double'}):\n",
    "#    bX.append(float(i['value']))\n",
    "#bY = []\n",
    "#for i in Bs_after.find_all('dYPosition', {'runtype':'double'}):\n",
    "#    bY.append(float(i['value']))\n",
    "#bZ = []\n",
    "#for i in Bs_after.find_all('dZPosition', {'runtype':'double'}):\n",
    "#    bZ.append(float(i['value']))\n",
    "#v1 = np.array([np.array(bX),np.array(bY),np.array(bZ)])\n",
    "T = affine_matrix_from_points(v0, v1,shear=False, scale=False, usesvd=True)\n",
    "#MAT = superimposition_matrix(v0, v1, scale=False, usesvd=True)"
   ]
  },
  {
   "cell_type": "code",
   "execution_count": 234,
   "metadata": {},
   "outputs": [],
   "source": [
    "p1 = float(Bs_data.find_all('dXPosition', {'runtype':'double'})[4]['value'])\n",
    "p2 = float(Bs_data.find_all('dYPosition', {'runtype':'double'})[4]['value'])\n",
    "p3 = float(Bs_data.find_all('dZPosition', {'runtype':'double'})[4]['value'])\n",
    "\n",
    "\n",
    "\n",
    "\n",
    "v3 = np.array([p1,p2,p3,1])"
   ]
  },
  {
   "cell_type": "code",
   "execution_count": 222,
   "metadata": {},
   "outputs": [
    {
     "ename": "ValueError",
     "evalue": "matmul: Input operand 1 has a mismatch in its core dimension 0, with gufunc signature (n?,k),(k,m?)->(n?,m?) (size 4 is different from 3)",
     "output_type": "error",
     "traceback": [
      "\u001b[0;31m---------------------------------------------------------------------------\u001b[0m",
      "\u001b[0;31mValueError\u001b[0m                                Traceback (most recent call last)",
      "\u001b[0;32m<ipython-input-222-cec831addd8b>\u001b[0m in \u001b[0;36m<module>\u001b[0;34m\u001b[0m\n\u001b[0;32m----> 1\u001b[0;31m \u001b[0mnp\u001b[0m\u001b[0;34m.\u001b[0m\u001b[0mmatmul\u001b[0m\u001b[0;34m(\u001b[0m\u001b[0mv3\u001b[0m\u001b[0;34m,\u001b[0m\u001b[0mT\u001b[0m\u001b[0;34m)\u001b[0m\u001b[0;34m\u001b[0m\u001b[0;34m\u001b[0m\u001b[0m\n\u001b[0m",
      "\u001b[0;31mValueError\u001b[0m: matmul: Input operand 1 has a mismatch in its core dimension 0, with gufunc signature (n?,k),(k,m?)->(n?,m?) (size 4 is different from 3)"
     ]
    }
   ],
   "source": [
    "np.matmul(v3,T)"
   ]
  },
  {
   "cell_type": "code",
   "execution_count": 183,
   "metadata": {},
   "outputs": [],
   "source": [
    "def project_point(point, transformation_matrix):\n",
    "    # Convert point to homogeneous coordinates\n",
    "    point_homogeneous = np.append(point, 1)\n",
    "\n",
    "    # Apply the transformation matrix\n",
    "    transformed_point = np.dot(transformation_matrix, point_homogeneous)\n",
    "\n",
    "    # Perform perspective division\n",
    "    projected_point_homogeneous = transformed_point / transformed_point[3]\n",
    "\n",
    "    # Extract the 3D coordinates\n",
    "    projected_point = projected_point_homogeneous[:3]\n",
    "\n",
    "    return projected_point\n",
    "\n",
    "# Example 4x4 homogeneous transformation matrix\n",
    "transformation_matrix = np.array([[0.866, -0.5, 0, 1],\n",
    "                                  [0.5, 0.866, 0, 2],\n",
    "                                  [0, 0, 1, 3],\n",
    "                                  [0, 0, 0, 1]])\n",
    "\n",
    "# Example 3D point to be projected\n",
    "point = np.array([1, 2, 3])\n",
    "\n",
    "# Project the point using the transformation matrix\n",
    "projected_point = project_point(v3, transformation_matrix)"
   ]
  },
  {
   "cell_type": "code",
   "execution_count": null,
   "metadata": {},
   "outputs": [],
   "source": []
  }
 ],
 "metadata": {
  "kernelspec": {
   "display_name": "Python 3",
   "language": "python",
   "name": "python3"
  },
  "language_info": {
   "codemirror_mode": {
    "name": "ipython",
    "version": 3
   },
   "file_extension": ".py",
   "mimetype": "text/x-python",
   "name": "python",
   "nbconvert_exporter": "python",
   "pygments_lexer": "ipython3",
   "version": "3.7.4"
  }
 },
 "nbformat": 4,
 "nbformat_minor": 4
}
