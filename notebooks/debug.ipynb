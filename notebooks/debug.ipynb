{
 "cells": [
  {
   "cell_type": "code",
   "execution_count": 24,
   "metadata": {},
   "outputs": [
    {
     "name": "stdout",
     "output_type": "stream",
     "text": [
      "MIPing xy1z01c1.tif\n"
     ]
    },
    {
     "name": "stderr",
     "output_type": "stream",
     "text": [
      "/home/pwahle/anaconda3/envs/retina/lib/python3.7/site-packages/ipykernel_launcher.py:48: UserWarning: /links/groups/treutlein/DATA/imaging/PW/proliferating_RGC/exp5/stacks/xy1z71c1.tif is a low contrast image\n",
      "/home/pwahle/anaconda3/envs/retina/lib/python3.7/site-packages/ipykernel_launcher.py:51: UserWarning: /links/groups/treutlein/DATA/imaging/PW/proliferating_RGC/exp5/MIPs/xy1z01c1.tif is a low contrast image\n"
     ]
    },
    {
     "name": "stdout",
     "output_type": "stream",
     "text": [
      "MIPing xy1z01c2.tif\n"
     ]
    },
    {
     "name": "stderr",
     "output_type": "stream",
     "text": [
      "/home/pwahle/anaconda3/envs/retina/lib/python3.7/site-packages/ipykernel_launcher.py:48: UserWarning: /links/groups/treutlein/DATA/imaging/PW/proliferating_RGC/exp5/stacks/xy1z71c2.tif is a low contrast image\n",
      "/home/pwahle/anaconda3/envs/retina/lib/python3.7/site-packages/ipykernel_launcher.py:51: UserWarning: /links/groups/treutlein/DATA/imaging/PW/proliferating_RGC/exp5/MIPs/xy1z01c2.tif is a low contrast image\n"
     ]
    },
    {
     "name": "stdout",
     "output_type": "stream",
     "text": [
      "MIPing xy1z01c3.tif\n"
     ]
    },
    {
     "name": "stderr",
     "output_type": "stream",
     "text": [
      "/home/pwahle/anaconda3/envs/retina/lib/python3.7/site-packages/ipykernel_launcher.py:48: UserWarning: /links/groups/treutlein/DATA/imaging/PW/proliferating_RGC/exp5/stacks/xy1z71c3.tif is a low contrast image\n"
     ]
    },
    {
     "name": "stdout",
     "output_type": "stream",
     "text": [
      "MIPing xy1z01c4.tif\n"
     ]
    },
    {
     "name": "stderr",
     "output_type": "stream",
     "text": [
      "/home/pwahle/anaconda3/envs/retina/lib/python3.7/site-packages/ipykernel_launcher.py:48: UserWarning: /links/groups/treutlein/DATA/imaging/PW/proliferating_RGC/exp5/stacks/xy1z71c4.tif is a low contrast image\n",
      "/home/pwahle/anaconda3/envs/retina/lib/python3.7/site-packages/ipykernel_launcher.py:51: UserWarning: /links/groups/treutlein/DATA/imaging/PW/proliferating_RGC/exp5/MIPs/xy1z01c4.tif is a low contrast image\n"
     ]
    },
    {
     "name": "stdout",
     "output_type": "stream",
     "text": [
      "MIPing xy2z01c1.tif\n"
     ]
    },
    {
     "name": "stderr",
     "output_type": "stream",
     "text": [
      "/home/pwahle/anaconda3/envs/retina/lib/python3.7/site-packages/ipykernel_launcher.py:48: UserWarning: /links/groups/treutlein/DATA/imaging/PW/proliferating_RGC/exp5/stacks/xy2z71c1.tif is a low contrast image\n",
      "/home/pwahle/anaconda3/envs/retina/lib/python3.7/site-packages/ipykernel_launcher.py:51: UserWarning: /links/groups/treutlein/DATA/imaging/PW/proliferating_RGC/exp5/MIPs/xy2z01c1.tif is a low contrast image\n"
     ]
    },
    {
     "name": "stdout",
     "output_type": "stream",
     "text": [
      "MIPing xy2z01c2.tif\n"
     ]
    },
    {
     "name": "stderr",
     "output_type": "stream",
     "text": [
      "/home/pwahle/anaconda3/envs/retina/lib/python3.7/site-packages/ipykernel_launcher.py:48: UserWarning: /links/groups/treutlein/DATA/imaging/PW/proliferating_RGC/exp5/stacks/xy2z71c2.tif is a low contrast image\n",
      "/home/pwahle/anaconda3/envs/retina/lib/python3.7/site-packages/ipykernel_launcher.py:51: UserWarning: /links/groups/treutlein/DATA/imaging/PW/proliferating_RGC/exp5/MIPs/xy2z01c2.tif is a low contrast image\n"
     ]
    },
    {
     "name": "stdout",
     "output_type": "stream",
     "text": [
      "MIPing xy2z01c3.tif\n"
     ]
    },
    {
     "name": "stderr",
     "output_type": "stream",
     "text": [
      "/home/pwahle/anaconda3/envs/retina/lib/python3.7/site-packages/ipykernel_launcher.py:48: UserWarning: /links/groups/treutlein/DATA/imaging/PW/proliferating_RGC/exp5/stacks/xy2z71c3.tif is a low contrast image\n"
     ]
    },
    {
     "name": "stdout",
     "output_type": "stream",
     "text": [
      "MIPing xy2z01c4.tif\n"
     ]
    },
    {
     "name": "stderr",
     "output_type": "stream",
     "text": [
      "/home/pwahle/anaconda3/envs/retina/lib/python3.7/site-packages/ipykernel_launcher.py:48: UserWarning: /links/groups/treutlein/DATA/imaging/PW/proliferating_RGC/exp5/stacks/xy2z71c4.tif is a low contrast image\n",
      "/home/pwahle/anaconda3/envs/retina/lib/python3.7/site-packages/ipykernel_launcher.py:51: UserWarning: /links/groups/treutlein/DATA/imaging/PW/proliferating_RGC/exp5/MIPs/xy2z01c4.tif is a low contrast image\n"
     ]
    },
    {
     "name": "stdout",
     "output_type": "stream",
     "text": [
      "MIPing xy3z01c1.tif\n"
     ]
    },
    {
     "name": "stderr",
     "output_type": "stream",
     "text": [
      "/home/pwahle/anaconda3/envs/retina/lib/python3.7/site-packages/ipykernel_launcher.py:48: UserWarning: /links/groups/treutlein/DATA/imaging/PW/proliferating_RGC/exp5/stacks/xy3z71c1.tif is a low contrast image\n",
      "/home/pwahle/anaconda3/envs/retina/lib/python3.7/site-packages/ipykernel_launcher.py:51: UserWarning: /links/groups/treutlein/DATA/imaging/PW/proliferating_RGC/exp5/MIPs/xy3z01c1.tif is a low contrast image\n"
     ]
    },
    {
     "name": "stdout",
     "output_type": "stream",
     "text": [
      "MIPing xy3z01c2.tif\n"
     ]
    },
    {
     "name": "stderr",
     "output_type": "stream",
     "text": [
      "/home/pwahle/anaconda3/envs/retina/lib/python3.7/site-packages/ipykernel_launcher.py:48: UserWarning: /links/groups/treutlein/DATA/imaging/PW/proliferating_RGC/exp5/stacks/xy3z71c2.tif is a low contrast image\n",
      "/home/pwahle/anaconda3/envs/retina/lib/python3.7/site-packages/ipykernel_launcher.py:51: UserWarning: /links/groups/treutlein/DATA/imaging/PW/proliferating_RGC/exp5/MIPs/xy3z01c2.tif is a low contrast image\n"
     ]
    },
    {
     "name": "stdout",
     "output_type": "stream",
     "text": [
      "MIPing xy3z01c3.tif\n"
     ]
    },
    {
     "name": "stderr",
     "output_type": "stream",
     "text": [
      "/home/pwahle/anaconda3/envs/retina/lib/python3.7/site-packages/ipykernel_launcher.py:48: UserWarning: /links/groups/treutlein/DATA/imaging/PW/proliferating_RGC/exp5/stacks/xy3z71c3.tif is a low contrast image\n",
      "/home/pwahle/anaconda3/envs/retina/lib/python3.7/site-packages/ipykernel_launcher.py:51: UserWarning: /links/groups/treutlein/DATA/imaging/PW/proliferating_RGC/exp5/MIPs/xy3z01c3.tif is a low contrast image\n"
     ]
    },
    {
     "name": "stdout",
     "output_type": "stream",
     "text": [
      "MIPing xy3z01c4.tif\n"
     ]
    },
    {
     "ename": "KeyboardInterrupt",
     "evalue": "",
     "output_type": "error",
     "traceback": [
      "\u001b[0;31m---------------------------------------------------------------------------\u001b[0m",
      "\u001b[0;31mKeyboardInterrupt\u001b[0m                         Traceback (most recent call last)",
      "\u001b[0;32m<ipython-input-24-a06325d26c78>\u001b[0m in \u001b[0;36m<module>\u001b[0;34m\u001b[0m\n\u001b[1;32m     42\u001b[0m                 \u001b[0mimgs\u001b[0m\u001b[0;34m.\u001b[0m\u001b[0mappend\u001b[0m\u001b[0;34m(\u001b[0m\u001b[0mio\u001b[0m\u001b[0;34m.\u001b[0m\u001b[0mimread\u001b[0m\u001b[0;34m(\u001b[0m\u001b[0mrawpath\u001b[0m \u001b[0;34m+\u001b[0m\u001b[0mfilename\u001b[0m\u001b[0;34m)\u001b[0m\u001b[0;34m)\u001b[0m\u001b[0;34m\u001b[0m\u001b[0;34m\u001b[0m\u001b[0m\n\u001b[1;32m     43\u001b[0m \u001b[0;34m\u001b[0m\u001b[0m\n\u001b[0;32m---> 44\u001b[0;31m             \u001b[0mstack\u001b[0m \u001b[0;34m=\u001b[0m \u001b[0mnp\u001b[0m\u001b[0;34m.\u001b[0m\u001b[0mdstack\u001b[0m\u001b[0;34m(\u001b[0m\u001b[0mimgs\u001b[0m\u001b[0;34m)\u001b[0m\u001b[0;34m\u001b[0m\u001b[0;34m\u001b[0m\u001b[0m\n\u001b[0m\u001b[1;32m     45\u001b[0m             \u001b[0msave3d\u001b[0m \u001b[0;34m=\u001b[0m \u001b[0mcopy\u001b[0m\u001b[0;34m.\u001b[0m\u001b[0mcopy\u001b[0m\u001b[0;34m(\u001b[0m\u001b[0mstack\u001b[0m\u001b[0;34m)\u001b[0m\u001b[0;34m\u001b[0m\u001b[0;34m\u001b[0m\u001b[0m\n\u001b[1;32m     46\u001b[0m             \u001b[0msave3d\u001b[0m \u001b[0;34m=\u001b[0m \u001b[0mstack\u001b[0m\u001b[0;34m.\u001b[0m\u001b[0mswapaxes\u001b[0m\u001b[0;34m(\u001b[0m\u001b[0;36m0\u001b[0m\u001b[0;34m,\u001b[0m\u001b[0;36m2\u001b[0m\u001b[0;34m)\u001b[0m\u001b[0;34m\u001b[0m\u001b[0;34m\u001b[0m\u001b[0m\n",
      "\u001b[0;32m<__array_function__ internals>\u001b[0m in \u001b[0;36mdstack\u001b[0;34m(*args, **kwargs)\u001b[0m\n",
      "\u001b[0;32m~/anaconda3/envs/retina/lib/python3.7/site-packages/numpy/lib/shape_base.py\u001b[0m in \u001b[0;36mdstack\u001b[0;34m(tup)\u001b[0m\n\u001b[1;32m    721\u001b[0m     \u001b[0;32mif\u001b[0m \u001b[0;32mnot\u001b[0m \u001b[0misinstance\u001b[0m\u001b[0;34m(\u001b[0m\u001b[0marrs\u001b[0m\u001b[0;34m,\u001b[0m \u001b[0mlist\u001b[0m\u001b[0;34m)\u001b[0m\u001b[0;34m:\u001b[0m\u001b[0;34m\u001b[0m\u001b[0;34m\u001b[0m\u001b[0m\n\u001b[1;32m    722\u001b[0m         \u001b[0marrs\u001b[0m \u001b[0;34m=\u001b[0m \u001b[0;34m[\u001b[0m\u001b[0marrs\u001b[0m\u001b[0;34m]\u001b[0m\u001b[0;34m\u001b[0m\u001b[0;34m\u001b[0m\u001b[0m\n\u001b[0;32m--> 723\u001b[0;31m     \u001b[0;32mreturn\u001b[0m \u001b[0m_nx\u001b[0m\u001b[0;34m.\u001b[0m\u001b[0mconcatenate\u001b[0m\u001b[0;34m(\u001b[0m\u001b[0marrs\u001b[0m\u001b[0;34m,\u001b[0m \u001b[0;36m2\u001b[0m\u001b[0;34m)\u001b[0m\u001b[0;34m\u001b[0m\u001b[0;34m\u001b[0m\u001b[0m\n\u001b[0m\u001b[1;32m    724\u001b[0m \u001b[0;34m\u001b[0m\u001b[0m\n\u001b[1;32m    725\u001b[0m \u001b[0;34m\u001b[0m\u001b[0m\n",
      "\u001b[0;32m<__array_function__ internals>\u001b[0m in \u001b[0;36mconcatenate\u001b[0;34m(*args, **kwargs)\u001b[0m\n",
      "\u001b[0;31mKeyboardInterrupt\u001b[0m: "
     ]
    }
   ],
   "source": [
    "import sys\n",
    "sys.path.insert(0, \"/home/pwahle/proliferating_RGC/\")\n",
    "\n",
    "import yaml\n",
    "import importlib\n",
    "import modules\n",
    "importlib.reload(modules)\n",
    "import os\n",
    "from pathlib import Path\n",
    "import subprocess\n",
    "\n",
    "# load global variables and parameters\n",
    "with open(\"../params.yml\", 'r') as ymlfile:\n",
    "    cfg = yaml.load(ymlfile, Loader=yaml.FullLoader)\n",
    "\n",
    "globals().update(cfg)\n",
    "\n",
    "import re\n",
    "import cv2\n",
    "import copy\n",
    "import numpy as np\n",
    "from skimage import io\n",
    "from skimage.restoration import denoise_nl_means, estimate_sigma\n",
    "\n",
    "#MIP\n",
    "experiment = 'exp5/'\n",
    "data_path = data_path + experiment\n",
    "rawpath = data_path + 'raw/'\n",
    "metadf = modules.get_metadata(rawpath)\n",
    "os.makedirs(data_path + 'MIPs/' , exist_ok=True)\n",
    "os.makedirs(data_path + 'stacks/' , exist_ok=True)\n",
    "os.makedirs(data_path + 'denoised/' , exist_ok=True)\n",
    "\n",
    "\n",
    "for n in np.unique(metadf['well_id']):\n",
    "    for channel in np.unique(metadf['channel']):\n",
    "        filenames = metadf[(metadf['well_id'] == n)& (metadf['channel'] == channel)]['file'].values\n",
    "        if not os.path.isfile(data_path + 'MIPs/' + filenames[0]):\n",
    "            print('MIPing ' + filenames[0])\n",
    "            imgs = []\n",
    "            for filename in filenames:\n",
    "                imgs.append(io.imread(rawpath +filename))\n",
    "                \n",
    "            stack = np.dstack(imgs)\n",
    "            save3d = copy.copy(stack)\n",
    "            save3d = stack.swapaxes(0,2)\n",
    "            save3d = save3d.swapaxes(1,2)\n",
    "            io.imsave(data_path + 'stacks/' + filename, save3d,photometric='minisblack')\n",
    "    \n",
    "            MIP = np.max(stack, axis=2)\n",
    "            io.imsave(data_path + 'MIPs/' + filenames[0], MIP)\n",
    "        else:\n",
    "            print(filenames[0] + ' already MIPed. moving on!')\n",
    "                \n",
    "                \n",
    "#denoise\n",
    "metadf = modules.get_metadata(data_path + 'MIPs/')\n",
    "\n",
    "for file in metadf['file'].values:\n",
    "    if not os.path.isfile(Path(data_path, 'denoised', file)):\n",
    "        print('denoising ' + file)\n",
    "        image = io.imread(data_path + 'MIPs/' + file ).astype('int16')\n",
    "        sigma_est = np.mean(estimate_sigma(image, multichannel=False))\n",
    "        patch_kw = dict(patch_size=5,      # 5x5 patches\n",
    "                    patch_distance=6,  # 13x13 search area\n",
    "                    multichannel=False)\n",
    "        denoised = denoise_nl_means(image, h=0.8 * sigma_est, sigma=sigma_est,\n",
    "                                     fast_mode=True, **patch_kw, preserve_range=True)\n",
    "        \n",
    "        io.imsave(Path(data_path, 'denoised', file), denoised.astype('int16'))\n",
    "    else:\n",
    "        print(file + ' already denoised. moving on')"
   ]
  },
  {
   "cell_type": "code",
   "execution_count": 17,
   "metadata": {},
   "outputs": [],
   "source": [
    "experiment = 'exp5/'\n",
    "data_path = data_path + experiment\n",
    "rawpath = data_path + 'raw/'\n",
    "metadf = modules.get_metadata(rawpath)"
   ]
  },
  {
   "cell_type": "code",
   "execution_count": null,
   "metadata": {},
   "outputs": [],
   "source": [
    "dir_images = rawpath\n",
    "def get_metadata(dir_images):\n",
    "    import os\n",
    "    import pandas as pd\n",
    "    images = os.listdir(dir_images)\n",
    "    images = [image for image in images if '.tif' in image]\n",
    "    images.sort()\n",
    "    regex = r'xy(?P<well_id>\\d+)z(?P<plane>\\d+)c(?P<channel>\\d{1})'\n",
    "    df = pd.DataFrame({'file': images})\n",
    "    df = df.join(df['file'].astype(str).str.extractall(regex).groupby(level=0).last())\n",
    "    df['well_id'] = df['well_id'].apply(lambda x: int(x))\n",
    "    df['channel'] = df['channel'].apply(lambda x: int(x))\n",
    "    df['plane'] = df['plane'].apply(lambda x: int(x)) \n",
    "    return df"
   ]
  }
 ],
 "metadata": {
  "kernelspec": {
   "display_name": "Python 3",
   "language": "python",
   "name": "python3"
  },
  "language_info": {
   "codemirror_mode": {
    "name": "ipython",
    "version": 3
   },
   "file_extension": ".py",
   "mimetype": "text/x-python",
   "name": "python",
   "nbconvert_exporter": "python",
   "pygments_lexer": "ipython3",
   "version": "3.7.4"
  }
 },
 "nbformat": 4,
 "nbformat_minor": 4
}
