{
 "cells": [
  {
   "cell_type": "code",
   "execution_count": 1,
   "metadata": {},
   "outputs": [],
   "source": [
    "import sys\n",
    "sys.path.insert(0, \"/home/pwahle/proliferating_RGC/\")\n",
    "\n",
    "import yaml\n",
    "import importlib\n",
    "import modules\n",
    "import utils\n",
    "importlib.reload(modules)\n",
    "import os\n",
    "from pathlib import Path\n",
    "import subprocess\n",
    "\n",
    "# load global variables and parameters\n",
    "with open(\"../params.yml\", 'r') as ymlfile:\n",
    "    cfg = yaml.load(ymlfile, Loader=yaml.FullLoader)\n",
    "\n",
    "globals().update(cfg)\n",
    "\n",
    "from scipy import ndimage\n",
    "import re\n",
    "import cv2\n",
    "from scipy import ndimage as ndi\n",
    "import copy\n",
    "import numpy as np\n",
    "import matplotlib as mpl\n",
    "import os\n",
    "from pathlib import Path\n",
    "import pandas as pd\n",
    "import matplotlib.pyplot as plt\n",
    "from skimage import io\n",
    "from bs4 import BeautifulSoup\n",
    "\n",
    "\n"
   ]
  },
  {
   "cell_type": "code",
   "execution_count": 58,
   "metadata": {},
   "outputs": [
    {
     "name": "stdout",
     "output_type": "stream",
     "text": [
      "updated points in file multipoints_cycle2_updated.xml\n"
     ]
    }
   ],
   "source": [
    "path = data_path + 'exp5/'\n",
    "\n",
    "outname = 'multipoints_cycle2_updated.xml'\n",
    "origina_file = 'multipoints_original.xml'\n",
    "new_file = 'multipoints_cycle2_measured.xml'\n",
    "\n",
    "\n",
    "with open(path + origina_file, 'rb') as f:\n",
    "    data = f.read()\n",
    "Bs_orig = BeautifulSoup(data, \"xml\")\n",
    "\n",
    "with open(path + new_file, 'rb') as f:\n",
    "    data = f.read()\n",
    "Bs_new = BeautifulSoup(data, \"xml\")\n",
    "\n",
    "\n",
    "a1 = np.array([float(Bs_orig.find_all('dXPosition', {'runtype':'double'})[0]['value']),float(Bs_orig.find_all('dYPosition', {'runtype':'double'})[0]['value']),float(Bs_orig.find_all('dZPosition', {'runtype':'double'})[0]['value'])])\n",
    "a2 = np.array([float(Bs_orig.find_all('dXPosition', {'runtype':'double'})[1]['value']),float(Bs_orig.find_all('dYPosition', {'runtype':'double'})[1]['value']),float(Bs_orig.find_all('dZPosition', {'runtype':'double'})[1]['value'])])\n",
    "a3 = np.array([float(Bs_orig.find_all('dXPosition', {'runtype':'double'})[2]['value']),float(Bs_orig.find_all('dYPosition', {'runtype':'double'})[2]['value']),float(Bs_orig.find_all('dZPosition', {'runtype':'double'})[2]['value'])])\n",
    "v0 = np.array([a1,a2,a3])\n",
    "\n",
    "b1 = np.array([float(Bs_new.find_all('dXPosition', {'runtype':'double'})[0]['value']),float(Bs_new.find_all('dYPosition', {'runtype':'double'})[0]['value']),float(Bs_new.find_all('dZPosition', {'runtype':'double'})[0]['value'])])\n",
    "b2 = np.array([float(Bs_new.find_all('dXPosition', {'runtype':'double'})[1]['value']),float(Bs_new.find_all('dYPosition', {'runtype':'double'})[1]['value']),float(Bs_new.find_all('dZPosition', {'runtype':'double'})[1]['value'])])\n",
    "b3 = np.array([float(Bs_new.find_all('dXPosition', {'runtype':'double'})[2]['value']),float(Bs_new.find_all('dYPosition', {'runtype':'double'})[2]['value']),float(Bs_new.find_all('dZPosition', {'runtype':'double'})[2]['value'])])\n",
    "v1 = np.array([b1,b2,b3])\n",
    "\n",
    "T = utils.affine_matrix_from_points(v0, v1,shear=False, scale=False, usesvd=True)\n",
    "\n",
    "bX = []\n",
    "for i in Bs_orig.find_all('dXPosition', {'runtype':'double'})[3:]:\n",
    "    bX.append(float(i['value']))\n",
    "bY = []\n",
    "for i in Bs_orig.find_all('dYPosition', {'runtype':'double'})[3:]:\n",
    "    bY.append(float(i['value']))\n",
    "bZ = []\n",
    "for i in Bs_orig.find_all('dZPosition', {'runtype':'double'})[3:]:\n",
    "    bZ.append(float(i['value']))\n",
    "v3 = np.squeeze(np.dstack([bX,bY,bZ,np.ones(len(bZ))]))\n",
    "\n",
    "projected_points = np.matmul(v3,T)\n",
    "\n",
    "for tag in np.arange(len(Bs_orig.find_all('dXPosition', {'runtype':'double'})))[3:]:\n",
    "    Bs_orig.find_all('dXPosition', {'runtype':'double'})[tag]['value'] = str(projected_points[tag-3,0])\n",
    "    \n",
    "for tag in np.arange(len(Bs_orig.find_all('dXPosition', {'runtype':'double'})))[:3]:\n",
    "    Bs_orig.find_all('dXPosition', {'runtype':'double'})[tag]['value'] = str(v1[tag,0])\n",
    "    \n",
    "for tag in np.arange(len(Bs_orig.find_all('dYPosition', {'runtype':'double'})))[3:]:\n",
    "    Bs_orig.find_all('dYPosition', {'runtype':'double'})[tag]['value'] = str(projected_points[tag-3,1])\n",
    "    \n",
    "for tag in np.arange(len(Bs_orig.find_all('dYPosition', {'runtype':'double'})))[:3]:\n",
    "    Bs_orig.find_all('dYPosition', {'runtype':'double'})[tag]['value'] = str(v1[tag,1])\n",
    "    \n",
    "for tag in np.arange(len(Bs_orig.find_all('dZPosition', {'runtype':'double'})))[3:]:\n",
    "    Bs_orig.find_all('dZPosition', {'runtype':'double'})[tag]['value'] = str(projected_points[tag-3,2])\n",
    "    \n",
    "for tag in np.arange(len(Bs_orig.find_all('dZPosition', {'runtype':'double'})))[:3]:\n",
    "    Bs_orig.find_all('dZPosition', {'runtype':'double'})[tag]['value'] = str(v1[tag,2])\n",
    "    \n",
    "    \n",
    "with open(path + outname, \"w\") as f:\n",
    "    f.write(Bs_orig.prettify())\n",
    "    \n",
    "print('updated points in file ' + outname)"
   ]
  },
  {
   "cell_type": "code",
   "execution_count": 27,
   "metadata": {},
   "outputs": [],
   "source": [
    "xx, yy, zz = np.sum(v0 * v1, axis=1)"
   ]
  },
  {
   "cell_type": "code",
   "execution_count": null,
   "metadata": {},
   "outputs": [],
   "source": []
  }
 ],
 "metadata": {
  "kernelspec": {
   "display_name": "Python 3",
   "language": "python",
   "name": "python3"
  },
  "language_info": {
   "codemirror_mode": {
    "name": "ipython",
    "version": 3
   },
   "file_extension": ".py",
   "mimetype": "text/x-python",
   "name": "python",
   "nbconvert_exporter": "python",
   "pygments_lexer": "ipython3",
   "version": "3.7.4"
  }
 },
 "nbformat": 4,
 "nbformat_minor": 4
}
