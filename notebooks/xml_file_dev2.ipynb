{
 "cells": [
  {
   "cell_type": "code",
   "execution_count": 1,
   "metadata": {},
   "outputs": [],
   "source": [
    "import sys\n",
    "sys.path.insert(0, \"/home/pwahle/proliferating_RGC/\")\n",
    "\n",
    "import yaml\n",
    "import importlib\n",
    "import modules\n",
    "importlib.reload(modules)\n",
    "import os\n",
    "from pathlib import Path\n",
    "import subprocess\n",
    "\n",
    "# load global variables and parameters\n",
    "with open(\"../params.yml\", 'r') as ymlfile:\n",
    "    cfg = yaml.load(ymlfile, Loader=yaml.FullLoader)\n",
    "\n",
    "globals().update(cfg)\n",
    "\n",
    "from scipy import ndimage\n",
    "import re\n",
    "import cv2\n",
    "from scipy import ndimage as ndi\n",
    "import copy\n",
    "import numpy as np\n",
    "import matplotlib as mpl\n",
    "import os\n",
    "from pathlib import Path\n",
    "import pandas as pd\n",
    "import matplotlib.pyplot as plt\n",
    "from skimage import io"
   ]
  },
  {
   "cell_type": "code",
   "execution_count": 2,
   "metadata": {},
   "outputs": [],
   "source": [
    "def affine_matrix_from_points(v0, v1, shear=True, scale=True, usesvd=True):\n",
    "\n",
    "    v0 = np.array(v0, dtype=np.float64, copy=True)\n",
    "    v1 = np.array(v1, dtype=np.float64, copy=True)\n",
    "\n",
    "    ndims = v0.shape[0]\n",
    "    if ndims < 2 or v0.shape[1] < ndims or v0.shape != v1.shape:\n",
    "        raise ValueError(\"input arrays are of wrong shape or type\")\n",
    "\n",
    "    # move centroids to origin\n",
    "    t0 = -np.mean(v0, axis=1)\n",
    "    M0 = np.identity(ndims+1)\n",
    "    M0[:ndims, ndims] = t0\n",
    "    v0 += t0.reshape(ndims, 1)\n",
    "    t1 = -np.mean(v1, axis=1)\n",
    "    M1 = np.identity(ndims+1)\n",
    "    M1[:ndims, ndims] = t1\n",
    "    v1 += t1.reshape(ndims, 1)\n",
    "\n",
    "    if shear:\n",
    "        # Affine transformation\n",
    "        A = np.concatenate((v0, v1), axis=0)\n",
    "        u, s, vh = np.linalg.svd(A.T)\n",
    "        vh = vh[:ndims].T\n",
    "        B = vh[:ndims]\n",
    "        C = vh[ndims:2*ndims]\n",
    "        t = np.dot(C, np.linalg.pinv(B))\n",
    "        t = np.concatenate((t, np.zeros((ndims, 1))), axis=1)\n",
    "        M = np.vstack((t, ((0.0,)*ndims) + (1.0,)))\n",
    "    elif usesvd or ndims != 3:\n",
    "        # Rigid transformation via SVD of covariance matrix\n",
    "        u, s, vh = np.linalg.svd(np.dot(v1, v0.T))\n",
    "        # rotation matrix from SVD orthonormal bases\n",
    "        R = np.dot(u, vh)\n",
    "        if np.linalg.det(R) < 0.0:\n",
    "            # R does not constitute right handed system\n",
    "            R -= np.outer(u[:, ndims-1], vh[ndims-1, :]*2.0)\n",
    "            s[-1] *= -1.0\n",
    "        # homogeneous transformation matrix\n",
    "        M = np.identity(ndims+1)\n",
    "        M[:ndims, :ndims] = R\n",
    "    else:\n",
    "        # Rigid transformation matrix via quaternion\n",
    "        # compute symmetric matrix N\n",
    "        xx, yy, zz = np.sum(v0 * v1, axis=1)\n",
    "        xy, yz, zx = np.sum(v0 * np.roll(v1, -1, axis=0), axis=1)\n",
    "        xz, yx, zy = np.sum(v0 * np.roll(v1, -2, axis=0), axis=1)\n",
    "        N = [[xx+yy+zz, 0.0,      0.0,      0.0],\n",
    "             [yz-zy,    xx-yy-zz, 0.0,      0.0],\n",
    "             [zx-xz,    xy+yx,    yy-xx-zz, 0.0],\n",
    "             [xy-yx,    zx+xz,    yz+zy,    zz-xx-yy]]\n",
    "        # quaternion: eigenvector corresponding to most positive eigenvalue\n",
    "        w, V = np.linalg.eigh(N)\n",
    "        q = V[:, np.argmax(w)]\n",
    "        q /= vector_norm(q)  # unit quaternion\n",
    "        # homogeneous transformation matrix\n",
    "        M = quaternion_matrix(q)\n",
    "\n",
    "    if scale and not shear:\n",
    "        # Affine transformation; scale is ratio of RMS deviations from centroid\n",
    "        v0 *= v0\n",
    "        v1 *= v1\n",
    "        M[:ndims, :ndims] *= math.sqrt(np.sum(v1) / np.sum(v0))\n",
    "\n",
    "    # move centroids back\n",
    "    M = np.dot(np.linalg.inv(M1), np.dot(M, M0))\n",
    "    M /= M[ndims, ndims]\n",
    "    return M"
   ]
  },
  {
   "cell_type": "code",
   "execution_count": 3,
   "metadata": {},
   "outputs": [],
   "source": [
    "path = data_path + 'exp5/'"
   ]
  },
  {
   "cell_type": "code",
   "execution_count": 4,
   "metadata": {},
   "outputs": [],
   "source": [
    "from bs4 import BeautifulSoup\n",
    "from bs4 import BeautifulStoneSoup \n",
    "with open(path + 'multipoints.xml', 'rb') as f:\n",
    "    data = f.read()\n",
    "Bs_orig = BeautifulSoup(data, \"xml\")\n",
    "\n",
    "with open(path + 'multipoints_after.xml', 'rb') as f:\n",
    "    data = f.read()\n",
    "Bs_new = BeautifulSoup(data, \"xml\")"
   ]
  },
  {
   "cell_type": "code",
   "execution_count": 5,
   "metadata": {},
   "outputs": [],
   "source": [
    "a1 = np.array([float(Bs_orig.find_all('dXPosition', {'runtype':'double'})[0]['value']),float(Bs_orig.find_all('dYPosition', {'runtype':'double'})[0]['value']),float(Bs_orig.find_all('dZPosition', {'runtype':'double'})[0]['value'])])\n",
    "a2 = np.array([float(Bs_orig.find_all('dXPosition', {'runtype':'double'})[1]['value']),float(Bs_orig.find_all('dYPosition', {'runtype':'double'})[1]['value']),float(Bs_orig.find_all('dZPosition', {'runtype':'double'})[1]['value'])])\n",
    "a3 = np.array([float(Bs_orig.find_all('dXPosition', {'runtype':'double'})[2]['value']),float(Bs_orig.find_all('dYPosition', {'runtype':'double'})[2]['value']),float(Bs_orig.find_all('dZPosition', {'runtype':'double'})[2]['value'])])\n",
    "v0 = np.array([a1,a2,a3])\n",
    "\n",
    "b1 = np.array([float(Bs_new.find_all('dXPosition', {'runtype':'double'})[0]['value']),float(Bs_new.find_all('dYPosition', {'runtype':'double'})[0]['value']),float(Bs_new.find_all('dZPosition', {'runtype':'double'})[0]['value'])])\n",
    "b2 = np.array([float(Bs_new.find_all('dXPosition', {'runtype':'double'})[1]['value']),float(Bs_new.find_all('dYPosition', {'runtype':'double'})[1]['value']),float(Bs_new.find_all('dZPosition', {'runtype':'double'})[1]['value'])])\n",
    "b3 = np.array([float(Bs_new.find_all('dXPosition', {'runtype':'double'})[2]['value']),float(Bs_new.find_all('dYPosition', {'runtype':'double'})[2]['value']),float(Bs_new.find_all('dZPosition', {'runtype':'double'})[2]['value'])])\n",
    "v1 = np.array([b1,b2,b3])\n",
    "\n",
    "T = affine_matrix_from_points(v0, v1,shear=False, scale=False, usesvd=True)"
   ]
  },
  {
   "cell_type": "code",
   "execution_count": 6,
   "metadata": {},
   "outputs": [],
   "source": [
    "bX = []\n",
    "for i in Bs_new.find_all('dXPosition', {'runtype':'double'})[3:]:\n",
    "    bX.append(float(i['value']))\n",
    "bY = []\n",
    "for i in Bs_new.find_all('dYPosition', {'runtype':'double'})[3:]:\n",
    "    bY.append(float(i['value']))\n",
    "bZ = []\n",
    "for i in Bs_new.find_all('dZPosition', {'runtype':'double'})[3:]:\n",
    "    bZ.append(float(i['value']))\n",
    "v3 = np.squeeze(np.dstack([bX,bY,bZ,np.ones(len(bZ))]))"
   ]
  },
  {
   "cell_type": "code",
   "execution_count": 16,
   "metadata": {},
   "outputs": [
    {
     "data": {
      "text/plain": [
       "array([[  14505.96253426,    8514.94530386,    5157.8030887 ,\n",
       "        1396113.23124491],\n",
       "       [  14921.19579192,    8118.84318304,    5172.91414491,\n",
       "        1321467.57062025],\n",
       "       [  14117.27345789,    8561.07686342,    5161.89106107,\n",
       "        1404210.38468295],\n",
       "       [  13674.77929897,    8661.54898015,    5122.57950186,\n",
       "        1424303.93448062],\n",
       "       [  14432.83852816,    8596.01707071,    5133.80003158,\n",
       "        1412290.19470988],\n",
       "       [  26368.92371568,    4264.69260077,    5253.61069242,\n",
       "         605546.27955037],\n",
       "       [  26322.21671017,    4614.9648645 ,    5225.11200824,\n",
       "         672525.2380048 ],\n",
       "       [  26299.38674353,    4987.13005036,    5243.46969476,\n",
       "         741655.26357155],\n",
       "       [  26251.54790162,    5083.35535   ,    5242.20754826,\n",
       "         759741.10189153],\n",
       "       [  38000.24006344,    -929.66937679,    5386.51688083,\n",
       "        -364234.60124076],\n",
       "       [  38012.56497974,    -795.44168745,    5380.36656758,\n",
       "        -338739.0092625 ],\n",
       "       [  38047.04788351,    -144.02695292,    5367.03692451,\n",
       "        -215733.89137227],\n",
       "       [  37975.46655796,     269.47880498,    5358.15584257,\n",
       "        -137730.44460555]])"
      ]
     },
     "execution_count": 16,
     "metadata": {},
     "output_type": "execute_result"
    }
   ],
   "source": [
    "np.set_printoptions(suppress=True)\n",
    "projected_points = np.matmul(v3,T)\n",
    "projected_points"
   ]
  },
  {
   "cell_type": "code",
   "execution_count": null,
   "metadata": {},
   "outputs": [],
   "source": [
    "for tag in Bs_new.find_all('dXPosition', {'runtype':'double'}):\n",
    "    tag['value'] = str(float(tag['value'])/100)"
   ]
  },
  {
   "cell_type": "code",
   "execution_count": null,
   "metadata": {},
   "outputs": [],
   "source": [
    "with open(path + \"test.xml\", \"w\") as f:\n",
    "    f.write(Bs_data.prettify())"
   ]
  },
  {
   "cell_type": "code",
   "execution_count": 1,
   "metadata": {},
   "outputs": [],
   "source": [
    "import sys\n",
    "sys.path.insert(0, \"/home/pwahle/proliferating_RGC/\")\n",
    "\n",
    "import yaml\n",
    "import importlib\n",
    "import modules\n",
    "import utils\n",
    "importlib.reload(modules)\n",
    "import os\n",
    "from pathlib import Path\n",
    "import subprocess\n",
    "\n",
    "# load global variables and parameters\n",
    "with open(\"../params.yml\", 'r') as ymlfile:\n",
    "    cfg = yaml.load(ymlfile, Loader=yaml.FullLoader)\n",
    "\n",
    "globals().update(cfg)\n",
    "\n",
    "from scipy import ndimage\n",
    "import re\n",
    "import cv2\n",
    "from scipy import ndimage as ndi\n",
    "import copy\n",
    "import numpy as np\n",
    "import matplotlib as mpl\n",
    "import os\n",
    "from pathlib import Path\n",
    "import pandas as pd\n",
    "import matplotlib.pyplot as plt\n",
    "from skimage import io\n",
    "from bs4 import BeautifulSoup\n",
    "\n",
    "\n"
   ]
  },
  {
   "cell_type": "code",
   "execution_count": 20,
   "metadata": {},
   "outputs": [
    {
     "name": "stdout",
     "output_type": "stream",
     "text": [
      "updated points in file multipoints_cycle2_updated.xml\n"
     ]
    }
   ],
   "source": []
  },
  {
   "cell_type": "code",
   "execution_count": 15,
   "metadata": {},
   "outputs": [
    {
     "data": {
      "text/plain": [
       "array([[14263.4 , 14431.3 , 38106.  , 38882.5 ],\n",
       "       [ 9783.9 ,  8495.6 ,  -905.3 ,   229.4 ],\n",
       "       [ 5337.6 ,  5335.58,  5285.27,  5285.27]])"
      ]
     },
     "execution_count": 15,
     "metadata": {},
     "output_type": "execute_result"
    }
   ],
   "source": [
    "v0"
   ]
  },
  {
   "cell_type": "code",
   "execution_count": 11,
   "metadata": {},
   "outputs": [
    {
     "data": {
      "text/plain": [
       "array([[14345.5 ,  9491.3 ,  5345.7 ],\n",
       "       [14520.2 ,  8205.  ,  5343.68],\n",
       "       [38236.9 , -1091.1 ,  5277.55],\n",
       "       [39010.  ,    48.8 ,  5272.6 ]])"
      ]
     },
     "execution_count": 11,
     "metadata": {},
     "output_type": "execute_result"
    }
   ],
   "source": [
    "v1"
   ]
  },
  {
   "cell_type": "code",
   "execution_count": 13,
   "metadata": {},
   "outputs": [
    {
     "data": {
      "text/plain": [
       "array([38882.5 ,   229.4 ,  5285.27])"
      ]
     },
     "execution_count": 13,
     "metadata": {},
     "output_type": "execute_result"
    }
   ],
   "source": [
    "a4"
   ]
  },
  {
   "cell_type": "code",
   "execution_count": 18,
   "metadata": {},
   "outputs": [
    {
     "data": {
      "text/plain": [
       "array([[2.64324e+04, 2.64240e+04, 2.64230e+04, 2.64190e+04, 2.64093e+04],\n",
       "       [4.45100e+03, 4.50530e+03, 4.56450e+03, 4.61630e+03, 4.68890e+03],\n",
       "       [5.30377e+03, 5.30367e+03, 5.30281e+03, 5.30377e+03, 5.30169e+03],\n",
       "       [1.00000e+00, 1.00000e+00, 1.00000e+00, 1.00000e+00, 1.00000e+00]])"
      ]
     },
     "execution_count": 18,
     "metadata": {},
     "output_type": "execute_result"
    }
   ],
   "source": [
    "v3.T"
   ]
  },
  {
   "cell_type": "code",
   "execution_count": null,
   "metadata": {},
   "outputs": [],
   "source": []
  }
 ],
 "metadata": {
  "kernelspec": {
   "display_name": "Python 3",
   "language": "python",
   "name": "python3"
  },
  "language_info": {
   "codemirror_mode": {
    "name": "ipython",
    "version": 3
   },
   "file_extension": ".py",
   "mimetype": "text/x-python",
   "name": "python",
   "nbconvert_exporter": "python",
   "pygments_lexer": "ipython3",
   "version": "3.7.4"
  }
 },
 "nbformat": 4,
 "nbformat_minor": 4
}
