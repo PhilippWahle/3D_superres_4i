{
 "cells": [
  {
   "cell_type": "code",
   "execution_count": 1,
   "metadata": {},
   "outputs": [],
   "source": [
    "import sys\n",
    "sys.path.insert(0, \"/home/pwahle/proliferating_RGC/\")\n",
    "\n",
    "import yaml\n",
    "import importlib\n",
    "import modules\n",
    "importlib.reload(modules)\n",
    "import os\n",
    "from pathlib import Path\n",
    "import subprocess\n",
    "\n",
    "# load global variables and parameters\n",
    "with open(\"../params.yml\", 'r') as ymlfile:\n",
    "    cfg = yaml.load(ymlfile, Loader=yaml.FullLoader)\n",
    "\n",
    "globals().update(cfg)\n",
    "r_path = str(Path('/usr/local/R-4.0.3/bin/Rscript'))  # path to r interpreter\n",
    "\n",
    "from scipy import ndimage\n",
    "import re\n",
    "import cv2\n",
    "from scipy import ndimage as ndi\n",
    "import copy\n",
    "import numpy as np\n",
    "import matplotlib as mpl\n",
    "import os\n",
    "from pathlib import Path\n",
    "import pandas as pd\n",
    "import matplotlib.pyplot as plt\n",
    "from skimage import io"
   ]
  },
  {
   "cell_type": "code",
   "execution_count": 2,
   "metadata": {},
   "outputs": [],
   "source": [
    "path = data_path + 'exp3/'"
   ]
  },
  {
   "cell_type": "code",
   "execution_count": 129,
   "metadata": {},
   "outputs": [
    {
     "data": {
      "text/plain": [
       "154"
      ]
     },
     "execution_count": 129,
     "metadata": {},
     "output_type": "execute_result"
    }
   ],
   "source": [
    "from bs4 import BeautifulSoup\n",
    "from bs4 import BeautifulStoneSoup \n",
    "with open(path + 'test.xml', 'rb') as f:\n",
    "#with open('GFG.xml', 'rb') as f:\n",
    "    data = f.read()\n",
    "f = open(\"test.xml\", \"w\")\n",
    "f.write(y.prettify())"
   ]
  },
  {
   "cell_type": "code",
   "execution_count": 130,
   "metadata": {},
   "outputs": [],
   "source": [
    "Bs_data = BeautifulSoup(data, \"xml\")"
   ]
  },
  {
   "cell_type": "code",
   "execution_count": 131,
   "metadata": {},
   "outputs": [
    {
     "data": {
      "text/plain": [
       "[<dYPosition runtype=\"double\" value=\"103.278\"/>,\n",
       " <dYPosition runtype=\"double\" value=\"103.45500000000001\"/>,\n",
       " <dYPosition runtype=\"double\" value=\"103.69200000000001\"/>,\n",
       " <dYPosition runtype=\"double\" value=\"107.141\"/>,\n",
       " <dYPosition runtype=\"double\" value=\"81.82700000000001\"/>,\n",
       " <dYPosition runtype=\"double\" value=\"81.46700000000001\"/>,\n",
       " <dYPosition runtype=\"double\" value=\"82.20900000000002\"/>,\n",
       " <dYPosition runtype=\"double\" value=\"81.76400000000001\"/>,\n",
       " <dYPosition runtype=\"double\" value=\"85.05\"/>,\n",
       " <dYPosition runtype=\"double\" value=\"86.10600000000001\"/>,\n",
       " <dYPosition runtype=\"double\" value=\"86.58200000000001\"/>,\n",
       " <dYPosition runtype=\"double\" value=\"89.322\"/>,\n",
       " <dYPosition runtype=\"double\" value=\"155.584\"/>,\n",
       " <dYPosition runtype=\"double\" value=\"-113.293\"/>]"
      ]
     },
     "execution_count": 131,
     "metadata": {},
     "output_type": "execute_result"
    }
   ],
   "source": [
    "xpos = Bs_data.find_all('dXPosition')\n",
    "ypos = Bs_data.find_all('dYPosition')\n",
    "zpos = Bs_data.find_all('dZPosition')\n",
    "ypos"
   ]
  },
  {
   "cell_type": "code",
   "execution_count": 132,
   "metadata": {},
   "outputs": [
    {
     "data": {
      "text/plain": [
       "[<dYPosition runtype=\"double\" value=\"1.03278\"/>,\n",
       " <dYPosition runtype=\"double\" value=\"1.03455\"/>,\n",
       " <dYPosition runtype=\"double\" value=\"1.03692\"/>,\n",
       " <dYPosition runtype=\"double\" value=\"1.07141\"/>,\n",
       " <dYPosition runtype=\"double\" value=\"0.8182700000000002\"/>,\n",
       " <dYPosition runtype=\"double\" value=\"0.8146700000000001\"/>,\n",
       " <dYPosition runtype=\"double\" value=\"0.8220900000000002\"/>,\n",
       " <dYPosition runtype=\"double\" value=\"0.8176400000000001\"/>,\n",
       " <dYPosition runtype=\"double\" value=\"0.8504999999999999\"/>,\n",
       " <dYPosition runtype=\"double\" value=\"0.86106\"/>,\n",
       " <dYPosition runtype=\"double\" value=\"0.86582\"/>,\n",
       " <dYPosition runtype=\"double\" value=\"0.89322\"/>,\n",
       " <dYPosition runtype=\"double\" value=\"1.5558400000000001\"/>,\n",
       " <dYPosition runtype=\"double\" value=\"-1.13293\"/>]"
      ]
     },
     "execution_count": 132,
     "metadata": {},
     "output_type": "execute_result"
    }
   ],
   "source": [
    "for tag in Bs_data.find_all('dYPosition', {'runtype':'double'}):\n",
    "    tag['value'] = str(float(tag['value'])/100)\n",
    "ypos"
   ]
  },
  {
   "cell_type": "code",
   "execution_count": 133,
   "metadata": {},
   "outputs": [],
   "source": [
    "i = 0\n",
    "for tag in Bs_data.find_all('dZPosition', {'runtype':'double'}):\n",
    "    tag['value'] = str(i)\n",
    "    i+=1"
   ]
  },
  {
   "cell_type": "code",
   "execution_count": 134,
   "metadata": {},
   "outputs": [],
   "source": [
    "with open(path + \"test.xml\", \"w\") as f:\n",
    "    f.write(Bs_data.prettify())"
   ]
  },
  {
   "cell_type": "code",
   "execution_count": 103,
   "metadata": {},
   "outputs": [
    {
     "ename": "AttributeError",
     "evalue": "'NoneType' object has no attribute 'insert'",
     "output_type": "error",
     "traceback": [
      "\u001b[0;31m---------------------------------------------------------------------------\u001b[0m",
      "\u001b[0;31mAttributeError\u001b[0m                            Traceback (most recent call last)",
      "\u001b[0;32m<ipython-input-103-a7ca1f57f9f6>\u001b[0m in \u001b[0;36m<module>\u001b[0;34m\u001b[0m\n\u001b[1;32m      6\u001b[0m     \u001b[0my\u001b[0m \u001b[0;34m=\u001b[0m \u001b[0mBeautifulSoup\u001b[0m\u001b[0;34m(\u001b[0m\u001b[0mcontent\u001b[0m\u001b[0;34m,\u001b[0m \u001b[0mfeatures\u001b[0m\u001b[0;34m=\u001b[0m\u001b[0;34m\"html.parser\"\u001b[0m\u001b[0;34m)\u001b[0m\u001b[0;34m\u001b[0m\u001b[0;34m\u001b[0m\u001b[0m\n\u001b[1;32m      7\u001b[0m     \u001b[0mnew_tag\u001b[0m \u001b[0;34m=\u001b[0m \u001b[0my\u001b[0m\u001b[0;34m.\u001b[0m\u001b[0mnew_tag\u001b[0m\u001b[0;34m(\u001b[0m\u001b[0;34m\"h1\"\u001b[0m\u001b[0;34m)\u001b[0m\u001b[0;34m\u001b[0m\u001b[0;34m\u001b[0m\u001b[0m\n\u001b[0;32m----> 8\u001b[0;31m     \u001b[0my\u001b[0m\u001b[0;34m.\u001b[0m\u001b[0mmail\u001b[0m\u001b[0;34m.\u001b[0m\u001b[0minsert\u001b[0m\u001b[0;34m(\u001b[0m\u001b[0;36m2\u001b[0m\u001b[0;34m,\u001b[0m\u001b[0mnew_tag\u001b[0m\u001b[0;34m)\u001b[0m\u001b[0;34m\u001b[0m\u001b[0;34m\u001b[0m\u001b[0m\n\u001b[0m\u001b[1;32m      9\u001b[0m \u001b[0mf\u001b[0m \u001b[0;34m=\u001b[0m \u001b[0mopen\u001b[0m\u001b[0;34m(\u001b[0m\u001b[0;34m\"GFG.xml\"\u001b[0m\u001b[0;34m,\u001b[0m \u001b[0;34m\"w\"\u001b[0m\u001b[0;34m)\u001b[0m\u001b[0;34m\u001b[0m\u001b[0;34m\u001b[0m\u001b[0m\n\u001b[1;32m     10\u001b[0m \u001b[0mf\u001b[0m\u001b[0;34m.\u001b[0m\u001b[0mwrite\u001b[0m\u001b[0;34m(\u001b[0m\u001b[0my\u001b[0m\u001b[0;34m.\u001b[0m\u001b[0mprettify\u001b[0m\u001b[0;34m(\u001b[0m\u001b[0;34m)\u001b[0m\u001b[0;34m)\u001b[0m\u001b[0;34m\u001b[0m\u001b[0;34m\u001b[0m\u001b[0m\n",
      "\u001b[0;31mAttributeError\u001b[0m: 'NoneType' object has no attribute 'insert'"
     ]
    }
   ],
   "source": [
    "#############\n",
    "from bs4 import BeautifulSoup\n",
    "\n",
    "with open(\"GFG.xml\", \"r\") as f:\n",
    "    content = f.read()\n",
    "    y = BeautifulSoup(content, features=\"html.parser\")\n",
    "    new_tag = y.new_tag(\"h1\")\n",
    "    y.mail.insert(2,new_tag)\n",
    "f = open(\"GFG.xml\", \"w\")\n",
    "f.write(y.prettify())"
   ]
  },
  {
   "cell_type": "code",
   "execution_count": null,
   "metadata": {},
   "outputs": [],
   "source": []
  }
 ],
 "metadata": {
  "kernelspec": {
   "display_name": "Python 3",
   "language": "python",
   "name": "python3"
  },
  "language_info": {
   "codemirror_mode": {
    "name": "ipython",
    "version": 3
   },
   "file_extension": ".py",
   "mimetype": "text/x-python",
   "name": "python",
   "nbconvert_exporter": "python",
   "pygments_lexer": "ipython3",
   "version": "3.7.4"
  }
 },
 "nbformat": 4,
 "nbformat_minor": 4
}
